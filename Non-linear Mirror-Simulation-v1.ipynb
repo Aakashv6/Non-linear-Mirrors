{
 "cells": [
  {
   "cell_type": "code",
   "execution_count": 1,
   "metadata": {},
   "outputs": [],
   "source": [
    "# setup the matplotlib graphics library and configure it to show figures inline in the notebook\n",
    "%matplotlib inline\n",
    "import matplotlib.pyplot as plt\n",
    "import numpy as np"
   ]
  },
  {
   "cell_type": "code",
   "execution_count": 2,
   "metadata": {},
   "outputs": [],
   "source": [
    "# make qutip available in the rest of the notebook\n",
    "from qutip import *"
   ]
  },
  {
   "cell_type": "code",
   "execution_count": 3,
   "metadata": {},
   "outputs": [],
   "source": [
    "# Simulation 1\n",
    "# In a frame rotating with frequency of the incident field (Rotating Wave approximation)"
   ]
  },
  {
   "cell_type": "code",
   "execution_count": 4,
   "metadata": {},
   "outputs": [],
   "source": [
    "# Assumptions\n",
    "\n",
    "# Angle of incidence = 0 (thus, no effect of polarization)\n",
    "# Incident light is monochromatic\n",
    "\n",
    "# Considering non-interacting exciton system"
   ]
  },
  {
   "cell_type": "code",
   "execution_count": 5,
   "metadata": {},
   "outputs": [],
   "source": [
    "# Constants\n",
    "\n",
    "# h_bar = 1 (convention)\n",
    "c = 1\n",
    "\n",
    "# Incident field properties\n",
    "wp = 1.0  * 2 * np.pi  # Frequency (energy) of the incident field\n",
    "\n",
    "# Exciton properties\n",
    "we = 3.0  * 2 * np.pi        # Frequency (energy) of the exciton in Lab frame\n",
    "k = 0                        # TMD in-plane momentum\n",
    "m = 1                        # Mass of exciton\n",
    "w_ex = we + (k ** 2)/m - wp  # Frequency (energy) of the exciton in the Rotating frame\n",
    "\n",
    "Npr = 5             # Number of cavity fock states for right moving modes\n",
    "Npl = 5             # Number of cavity fock states for left moving modes\n",
    "Ne = 5              # Number of exciton fock states"
   ]
  },
  {
   "cell_type": "code",
   "execution_count": 6,
   "metadata": {},
   "outputs": [],
   "source": [
    "# Essential Operators\n",
    "\n",
    "r  = tensor(destroy(Npr), qeye(Ne), qeye(Npl))       # Ladder operator of Right propagating field\n",
    "l  = tensor(qeye(Npr), qeye(Ne), destroy(Npl))       # Ladder operator of Left propagating field\n",
    "\n",
    "# x = tensor(qeye(Npr), destroy(Ne), qeye(Npl))      # Exciton ladder operator  "
   ]
  },
  {
   "cell_type": "code",
   "execution_count": 7,
   "metadata": {},
   "outputs": [],
   "source": [
    "def tdep(K, t):\n",
    "    \n",
    "    r_int = 0\n",
    "    l_int = 0\n",
    "    \n",
    "    r_outt = 0\n",
    "    l_outt = 0\n",
    "    \n",
    "    xt = 0\n",
    "    \n",
    "    w_vec = np.linspace(0,10,10)\n",
    "    dw = w_vec[1] - w_vec[0]\n",
    "    \n",
    "    for w in w_vec:\n",
    "        \n",
    "        # Rotating frame normalization\n",
    "        rho = ((w+wp)/c)/np.sqrt((w + wp)**2 - (c*k)**2) # Normalization factor\n",
    "        \n",
    "        K = np.sqrt(rho) * K                             # Rotating frame normalization\n",
    "\n",
    "        # Radiative decay of excitons into right(left) moving modes\n",
    "        gamma = 2 * np.pi * (K ** 2)\n",
    "\n",
    "        # Free propagator\n",
    "        G = 1/(gamma - 1j*(w - w_ex))\n",
    "        \n",
    "        # Normalizing Right (Left) ladder operator\n",
    "        r_in = np.sqrt(rho) * r\n",
    "        l_in = np.sqrt(rho) * l\n",
    "        \n",
    "        # Output operators for Right (Left) Propagating field\n",
    "        r_out = (1 - gamma * G) * r_in - gamma * G * l_in\n",
    "        l_out = (1 - gamma * G) * l_in - gamma * G * r_in\n",
    "        \n",
    "        # Exciton ladder operator\n",
    "        x = -1j * np.exp(-1j*theta) * np.sqrt(gamma) * G * (r_in + l_in)\n",
    "        \n",
    "        # Inverse Fourier Transformation\n",
    "        \n",
    "        r_int = r_int + np.exp(-1j*w*t) * r_in * dw\n",
    "        l_int = l_int + np.exp(-1j*w*t) * l_in * dw\n",
    "        \n",
    "        r_outt = r_outt + r_out * np.exp(-1j*w*t) * dw\n",
    "        l_outt = r_outt + l_out * np.exp(-1j*w*t) * dw\n",
    "\n",
    "        xt = xt + x * np.exp(-1j*w*t) * dw\n",
    "    \n",
    "    return r_int, r_outt, l_int, l_outt, xt"
   ]
  },
  {
   "cell_type": "code",
   "execution_count": 8,
   "metadata": {},
   "outputs": [],
   "source": [
    "def integral(K,theta):\n",
    "    \n",
    "    w_vec = np.linspace(0,10,10) * 2 * np.pi\n",
    "    dw = w_vec[1] - w_vec[0]\n",
    "    \n",
    "    H_int = 0\n",
    "    H_bath = 0\n",
    "    \n",
    "    for w in w_vec:\n",
    "        \n",
    "        # Rotating frame normalization\n",
    "        rho = ((w+wp)/c)/np.sqrt((w + wp)**2 - (c*k)**2) # Normalization factor\n",
    "\n",
    "        K = np.sqrt(rho) * K                             # Rotating frame normalization\n",
    "\n",
    "        # Radiative decay of excitons into right(left) moving modes\n",
    "        gamma = 2 * np.pi * (K ** 2)\n",
    "\n",
    "        # Free propagator\n",
    "        G = 1/(gamma - 1j*(w - w_ex))\n",
    "\n",
    "        # Essential Operators \n",
    "\n",
    "        # Normalizing Right (Left) ladder operator\n",
    "        r_in = np.sqrt(rho) * r\n",
    "        l_in = np.sqrt(rho) * l\n",
    "\n",
    "        # Output operators for Right (Left) Propagating field\n",
    "        r_out = (1 - gamma * G) * r_in - gamma * G * l_in\n",
    "        l_out = (1 - gamma * G) * l_in - gamma * G * r_in\n",
    "\n",
    "        # Exciton ladder operator\n",
    "        x = -1j * np.exp(-1j*theta) * np.sqrt(gamma) * G * (r_in + l_in)\n",
    "\n",
    "        # Photon-Exciton Interaction\n",
    "        H_int = H_int + dw * K * np.exp(1j*theta/2) * x.dag() * ((r_in + l_in + r_out + l_out) + (r_in + l_in + r_out + l_out).dag())\n",
    "\n",
    "        # Noise Hamiltonian\n",
    "        H_bath = H_bath + w * (r_in.dag() * r_in + l_in.dag() * l_in + r_out.dag() * r_out + l_out.dag() * l_out) * dw\n",
    "    \n",
    "    return H_int, H_bath"
   ]
  },
  {
   "cell_type": "code",
   "execution_count": 9,
   "metadata": {},
   "outputs": [],
   "source": [
    "# Net Hamiltonian\n",
    "\n",
    "def Hamiltonian(w, K, theta):\n",
    "\n",
    "    # Rotating frame normalization\n",
    "    rho = ((w+wp)/c)/np.sqrt((w + wp)**2 - (c*k)**2) # Normalization factor\n",
    "    \n",
    "    K = np.sqrt(rho) * K                             # Rotating frame normalization\n",
    "    \n",
    "    # Radiative decay of excitons into right(left) moving modes\n",
    "    gamma = 2 * np.pi * (K ** 2)\n",
    "    \n",
    "    # Free propagator\n",
    "    G = 1/(gamma - 1j*(w - w_ex))\n",
    "    \n",
    "    # Essential Operators \n",
    "    \n",
    "    # Normalizing Right (Left) ladder operator\n",
    "    r_in = np.sqrt(rho) * r\n",
    "    l_in = np.sqrt(rho) * l\n",
    "    \n",
    "    # Output operators for Right (Left) Propagating field\n",
    "    r_out = (1 - gamma * G) * r_in - gamma * G * l_in\n",
    "    l_out = (1 - gamma * G) * l_in - gamma * G * r_in\n",
    "\n",
    "    # Exciton ladder operator\n",
    "    x = -1j * np.exp(-1j*theta) * np.sqrt(gamma) * G * (r_in + l_in)\n",
    "\n",
    "    # Number operators\n",
    "    ne = x.dag() * x              # Exciton number operator\n",
    "\n",
    "    nr_in = r_in.dag() * r_in     # Right--in number operator\n",
    "    nr_out = r_out.dag() * r_out  # Right--out number operator\n",
    "\n",
    "    nl_in = l_in.dag() * l_in     # Left--in number operator\n",
    "    nl_out = l_out.dag() * l_out  # Left--out number operator\n",
    "    \n",
    "    # Non-interacting exciton system\n",
    "    H_tmd = w_ex * x.dag() * x\n",
    "    \n",
    "    H_int, H_bath = integral(K,theta)\n",
    "    \n",
    "    H = H_tmd + H_int + H_bath\n",
    "    \n",
    "    return ne, nr_in, nr_out, nl_in, nl_out, r_in, r_out, l_in, l_out, H"
   ]
  },
  {
   "cell_type": "code",
   "execution_count": 10,
   "metadata": {
    "scrolled": true
   },
   "outputs": [],
   "source": [
    "w =  1.0  * 2 * np.pi                         # Frequency\n",
    "\n",
    "K_vec = np.linspace(0, 1.0, 51) * 2 * np.pi  # Coupling strength vector\n",
    "theta = np.pi/2                               # Coupling phase\n",
    "\n",
    "psi_list = []\n",
    "\n",
    "ne_expt = []\n",
    "nri_expt = []\n",
    "nro_expt = []\n",
    "\n",
    "for K in K_vec:\n",
    "    \n",
    "    ne, nr_in, nr_out, nl_in, nl_out, r_in, r_out, l_in, l_out, H = Hamiltonian(wp, K, theta)\n",
    "    \n",
    "    # find the groundstate and its energy\n",
    "    evals, eket = H.eigenstates()\n",
    "    gket = eket[0]\n",
    "    \n",
    "    e = expect(ne, gket)\n",
    "    ne_expt.append(e)\n",
    "    \n",
    "    nri = expect(nr_in, gket)      # Right-in photon occupation probability\n",
    "    nri_expt.append(nri)\n",
    "    \n",
    "    nro = expect(nr_out, gket)\n",
    "    nro_expt.append(nro)           # Right-out photon occupation probability\n",
    "    \n",
    "    # store the ground state\n",
    "    psi_list.append(gket)"
   ]
  },
  {
   "cell_type": "code",
   "execution_count": 11,
   "metadata": {},
   "outputs": [
    {
     "data": {
      "text/plain": [
       "Text(0.5, 1, 'Occupational probability wrt Coupling Strength')"
      ]
     },
     "execution_count": 11,
     "metadata": {},
     "output_type": "execute_result"
    },
    {
     "data": {
      "image/png": "[encoded data removed]",
      "text/plain": [
       "<Figure size 576x288 with 1 Axes>"
      ]
     },
     "metadata": {
      "needs_background": "light"
     },
     "output_type": "display_data"
    }
   ],
   "source": [
    "fig, axes = plt.subplots(1, 1, sharex=True, figsize=(8,4))\n",
    "\n",
    "axes.plot(K_vec/(2*np.pi), nri_expt, 'r', linewidth=2, label=\"Photon_right_in\")\n",
    "axes.plot(K_vec/(2*np.pi), nro_expt, 'g', linewidth=2, label=\"Photon_right_out\")\n",
    "axes.plot(K_vec/(2*np.pi), ne_expt, 'b', linewidth=2, label=\"Exciton\")\n",
    "axes.set_ylabel(\"Occupation probability\", fontsize=16)\n",
    "axes.set_xlabel(\"Coupling strength\", fontsize=16)\n",
    "axes.legend(loc=0)\n",
    "\n",
    "fig.tight_layout()\n",
    "axes.set_title(\"Occupational probability wrt Coupling Strength\")"
   ]
  },
  {
   "cell_type": "code",
   "execution_count": 12,
   "metadata": {},
   "outputs": [],
   "source": [
    "# Coherent Monochromatic Incident EM field\n",
    "psi = tensor(coherent(N=5, alpha=1.0), fock(5, 0), fock(5, 0)) \n",
    "\n",
    "w_vec = np.linspace(0, 3.0, 101) * 2 * np.pi   # Frequency vector\n",
    "\n",
    "K = 0.25                                       # Coupling strength\n",
    "theta = np.pi/2                                # Coupling phase \n",
    "\n",
    "ne_expt = []\n",
    "nri_expt = []\n",
    "nro_expt = []\n",
    "nlo_expt = []\n",
    "\n",
    "ri_expt = []\n",
    "ro_expt = []\n",
    "li_expt = []\n",
    "lo_expt = []\n",
    "\n",
    "for w in w_vec:\n",
    "    \n",
    "    ne, nr_in, nr_out, nl_in, nl_out, r_in, r_out, l_in, l_out, H = Hamiltonian(w, K, theta)\n",
    "    \n",
    "    e = expect(ne, psi)\n",
    "    ne_expt.append(e)\n",
    "    \n",
    "    nri = expect(nr_in, psi)      # Right-in photon occupation probability\n",
    "    nri_expt.append(nri)\n",
    "    \n",
    "    nro = expect(nr_out, psi)     # Right-out photon occupation probability\n",
    "    nro_expt.append(nro)          \n",
    "\n",
    "    nlo = expect(nl_out, psi)     # Left-out photon occupation probability\n",
    "    nlo_expt.append(nlo)          \n",
    "    \n",
    "    lie = expect(l_in, psi)       # Left-in photon expectation value\n",
    "    li_expt.append(lie)\n",
    "    \n",
    "    loe = expect(l_out, psi)      # Left-out photon expectation value\n",
    "    lo_expt.append(loe)\n",
    "    \n",
    "    roe = expect(r_out, psi)      # Right-out photon expectation value\n",
    "    ro_expt.append(roe)\n",
    "    \n",
    "    rie = expect(r_in, psi)       # Right-in photon expectation value\n",
    "    ri_expt.append(rie)"
   ]
  },
  {
   "cell_type": "code",
   "execution_count": 13,
   "metadata": {},
   "outputs": [
    {
     "data": {
      "text/plain": [
       "Text(0.5, 1, 'Occupational Probability w.r.t w')"
      ]
     },
     "execution_count": 13,
     "metadata": {},
     "output_type": "execute_result"
    },
    {
     "data": {
      "image/png": "[encoded data removed]",
      "text/plain": [
       "<Figure size 576x576 with 1 Axes>"
      ]
     },
     "metadata": {
      "needs_background": "light"
     },
     "output_type": "display_data"
    }
   ],
   "source": [
    "fig, axes = plt.subplots(1, 1, sharex=True, figsize=(8,8))\n",
    "\n",
    "axes.plot(w_vec/(2*np.pi), nri_expt, 'r', linewidth=2, label=\"<R_in>\")\n",
    "axes.plot(w_vec/(2*np.pi), nro_expt, 'b', linewidth=2, label=\"<R_out>\")\n",
    "axes.plot(w_vec/(2*np.pi), nlo_expt, 'g', linewidth=2, label=\"<L_out>\")\n",
    "axes.set_ylabel(\"Occupational Probability\", fontsize=16)\n",
    "axes.set_xlabel(\"w\", fontsize=16)\n",
    "axes.legend(loc=0)\n",
    "\n",
    "fig.tight_layout()\n",
    "axes.set_title(\"Occupational Probability w.r.t w\")"
   ]
  },
  {
   "cell_type": "code",
   "execution_count": 14,
   "metadata": {},
   "outputs": [
    {
     "name": "stderr",
     "output_type": "stream",
     "text": [
      "/home/aakash/.local/lib/python3.6/site-packages/numpy/core/_asarray.py:85: ComplexWarning: Casting complex values to real discards the imaginary part\n",
      "  return array(a, dtype, copy=False, order=order)\n"
     ]
    },
    {
     "data": {
      "text/plain": [
       "Text(0.5, 1, 'Expectation value of Coherent Incident field w.r.t w')"
      ]
     },
     "execution_count": 14,
     "metadata": {},
     "output_type": "execute_result"
    },
    {
     "data": {
      "image/png": "[encoded data removed]",
      "text/plain": [
       "<Figure size 576x288 with 1 Axes>"
      ]
     },
     "metadata": {
      "needs_background": "light"
     },
     "output_type": "display_data"
    }
   ],
   "source": [
    "fig, axes = plt.subplots(1, 1, sharex=True, figsize=(8,4))\n",
    "\n",
    "axes.plot(w_vec/(2*np.pi), ri_expt, 'r', linewidth=2, label=\"<r_in(w)>\")\n",
    "axes.plot(w_vec/(2*np.pi), ro_expt, 'b', linewidth=2, label=\"<r_out(w)>\")\n",
    "axes.set_ylabel(\"Expectation value\", fontsize=16)\n",
    "axes.set_xlabel(\"w\", fontsize=16)\n",
    "axes.legend(loc=0)\n",
    "\n",
    "fig.tight_layout()\n",
    "axes.set_title(\"Expectation value of Coherent Incident field w.r.t w\")"
   ]
  },
  {
   "cell_type": "code",
   "execution_count": 15,
   "metadata": {},
   "outputs": [
    {
     "data": {
      "text/plain": [
       "Text(0.5, 1, 'Expectation value of Coherent Incident field w.r.t w')"
      ]
     },
     "execution_count": 15,
     "metadata": {},
     "output_type": "execute_result"
    },
    {
     "data": {
      "image/png": "[encoded data removed]",
      "text/plain": [
       "<Figure size 576x288 with 1 Axes>"
      ]
     },
     "metadata": {
      "needs_background": "light"
     },
     "output_type": "display_data"
    }
   ],
   "source": [
    "fig, axes = plt.subplots(1, 1, sharex=True, figsize=(8,4))\n",
    "\n",
    "axes.plot(w_vec/(2*np.pi), li_expt, 'r', linewidth=2, label=\"<l_in(w)>\")\n",
    "axes.plot(w_vec/(2*np.pi), np.abs(lo_expt), 'b', linewidth=2, label=\"<l_out(w)>\")\n",
    "axes.set_ylabel(\"Expectation value\", fontsize=16)\n",
    "axes.set_xlabel(\"w\", fontsize=16)\n",
    "axes.legend(loc=0)\n",
    "\n",
    "fig.tight_layout()\n",
    "axes.set_title(\"Expectation value of Coherent Incident field w.r.t w\")"
   ]
  },
  {
   "cell_type": "code",
   "execution_count": 16,
   "metadata": {},
   "outputs": [],
   "source": [
    "# Reflection Coefficient \n",
    "# RC = gamma * G(w,k)  (k=0 here)\n",
    "# Can be calculated by taking expectation value of Eq(8)\n",
    "\n",
    "rc = (np.array(ri_expt) - np.array(ro_expt))/(np.array(ri_expt) + np.array(li_expt))"
   ]
  },
  {
   "cell_type": "code",
   "execution_count": 17,
   "metadata": {},
   "outputs": [
    {
     "data": {
      "text/plain": [
       "Text(0.5, 1, ' Reflection Coefficient w.r.t w')"
      ]
     },
     "execution_count": 17,
     "metadata": {},
     "output_type": "execute_result"
    },
    {
     "data": {
      "image/png": "[encoded data removed]",
      "text/plain": [
       "<Figure size 576x288 with 1 Axes>"
      ]
     },
     "metadata": {
      "needs_background": "light"
     },
     "output_type": "display_data"
    }
   ],
   "source": [
    "fig, axes = plt.subplots(1, 1, sharex=True, figsize=(8,4))\n",
    "\n",
    "axes.plot(w_vec/(2*np.pi), rc, 'b', linewidth=2, label=\"Photon_right_in\")\n",
    "axes.set_ylabel(\"Reflection Coefficient\", fontsize=16)\n",
    "axes.set_xlabel(\"w\", fontsize=16)\n",
    "axes.legend(loc=0)\n",
    "\n",
    "fig.tight_layout()\n",
    "axes.set_title(\" Reflection Coefficient w.r.t w\")"
   ]
  },
  {
   "cell_type": "code",
   "execution_count": null,
   "metadata": {},
   "outputs": [],
   "source": [
    "# Coherent Monochromatic Incident EM field\n",
    "psi0 = tensor(coherent(N=5, alpha=1.0), fock(5, 0), fock(5, 0)) \n",
    "\n",
    "w = 2 * 2 * np.pi   # Frequency \n",
    "\n",
    "K = 0.25                                       # Coupling strength\n",
    "theta = np.pi/2                                # Coupling phase \n",
    "\n",
    "tlist = np.linspace(0, 4, 751)\n",
    "co_ops = []\n",
    "expt_ops = []\n",
    "\n",
    "ne, nr_in, nr_out, nl_in, nl_out, r_in, r_out, l_in, l_out, H = Hamiltonian(w, K, theta)\n",
    "\n",
    "r_int, r_outt, l_int, l_outt, xt = tdep(K, tlist[-1])\n",
    "\n",
    "result = mesolve(H, psi0, tlist, [], [xt.dag()*xt, r_int.dag()*r_int, r_outt.dag()*r_outt, l_outt.dag()*l_outt, r_int, r_outt, l_int, l_outt])\n",
    "\n",
    "ne_expt = result.expect[0]\n",
    "nri_expt = result.expect[1]\n",
    "nro_expt = result.expect[2]\n",
    "nlo_expt = result.expect[3]\n",
    "\n",
    "ri_expt = result.expect[4]\n",
    "ro_expt = result.expect[5]\n",
    "li_expt = result.expect[6]\n",
    "lo_expt = result.expect[7]"
   ]
  },
  {
   "cell_type": "code",
   "execution_count": null,
   "metadata": {},
   "outputs": [],
   "source": [
    "fig, axes = plt.subplots(1, 1, sharex=True, figsize=(8,4))\n",
    "\n",
    "axes.plot(tlist, ne_expt, 'r', linewidth=2, label=\"<ne(t)>\")\n",
    "axes.plot(tlist, nri_expt, 'b', linewidth=2, label=\"<nr_in(t)>\")\n",
    "axes.set_ylabel(\"Occupational Probability\", fontsize=16)\n",
    "axes.set_xlabel(\"t\", fontsize=16)\n",
    "axes.legend(loc=0)\n",
    "\n",
    "fig.tight_layout()\n",
    "axes.set_title(\"Occupational Probability of Coherent Incident field w.r.t t\")"
   ]
  },
  {
   "cell_type": "code",
   "execution_count": null,
   "metadata": {},
   "outputs": [],
   "source": [
    "fig, axes = plt.subplots(1, 1, sharex=True, figsize=(8,4))\n",
    "\n",
    "axes.plot(tlist, nri_expt, 'r', linewidth=2, label=\"<nr_in(t)>\")\n",
    "axes.plot(tlist, nro_expt, 'b', linewidth=2, label=\"<nr_out(t)>\")\n",
    "axes.set_ylabel(\"Occupational Probability\", fontsize=16)\n",
    "axes.set_xlabel(\"t\", fontsize=16)\n",
    "axes.legend(loc=0)\n",
    "\n",
    "fig.tight_layout()\n",
    "axes.set_title(\"Occupational Probability of Coherent Incident field w.r.t t\")"
   ]
  },
  {
   "cell_type": "code",
   "execution_count": null,
   "metadata": {},
   "outputs": [],
   "source": [
    "fig, axes = plt.subplots(1, 1, sharex=True, figsize=(8,4))\n",
    "\n",
    "axes.plot(tlist, nro_expt, 'r', linewidth=2, label=\"<nr_in(t)>\")\n",
    "axes.plot(tlist, nro_expt, 'b', linewidth=2, label=\"<nr_out(t)>\")\n",
    "axes.plot(tlist, nlo_expt, 'g', linewidth=2, label=\"<nl_out(t)>\")\n",
    "axes.set_ylabel(\"Occupational Probability\", fontsize=16)\n",
    "axes.set_xlabel(\"t\", fontsize=16)\n",
    "axes.legend(loc=0)\n",
    "\n",
    "fig.tight_layout()\n",
    "axes.set_title(\"Occupational Probability of Coherent Incident field w.r.t t\")"
   ]
  },
  {
   "cell_type": "code",
   "execution_count": null,
   "metadata": {},
   "outputs": [],
   "source": [
    "fig, axes = plt.subplots(1, 1, sharex=True, figsize=(8,4))\n",
    "\n",
    "axes.plot(tlist, ri_expt, 'r', linewidth=2, label=\"<r_in(t)>\")\n",
    "axes.set_ylabel(\"Expectation value\", fontsize=16)\n",
    "axes.set_xlabel(\"t\", fontsize=16)\n",
    "axes.legend(loc=0)\n",
    "\n",
    "fig.tight_layout()\n",
    "axes.set_title(\"Expectation value of Coherent Incident field w.r.t t\")"
   ]
  },
  {
   "cell_type": "code",
   "execution_count": null,
   "metadata": {},
   "outputs": [],
   "source": [
    "fig, axes = plt.subplots(1, 1, sharex=True, figsize=(8,4))\n",
    "\n",
    "axes.plot(tlist, ro_expt, 'b', linewidth=2, label=\"<r_out(t)>\")\n",
    "axes.set_ylabel(\"Expectation value\", fontsize=16)\n",
    "axes.set_xlabel(\"t\", fontsize=16)\n",
    "axes.legend(loc=0)\n",
    "\n",
    "fig.tight_layout()\n",
    "axes.set_title(\"Expectation value of Transmitted field w.r.t t\")"
   ]
  },
  {
   "cell_type": "code",
   "execution_count": null,
   "metadata": {},
   "outputs": [],
   "source": [
    "fig, axes = plt.subplots(1, 1, sharex=True, figsize=(8,4))\n",
    "\n",
    "axes.plot(tlist, lo_expt, 'g', linewidth=2, label=\"<l_out(t)>\")\n",
    "axes.set_ylabel(\"Expectation value\", fontsize=16)\n",
    "axes.set_xlabel(\"t\", fontsize=16)\n",
    "axes.legend(loc=0)\n",
    "\n",
    "fig.tight_layout()\n",
    "axes.set_title(\"Expectation value of Reflected field w.r.t t\")"
   ]
  },
  {
   "cell_type": "code",
   "execution_count": null,
   "metadata": {},
   "outputs": [],
   "source": [
    "### Just to show the phase of the Reflected and Transmitted propagating field w.r.t Incident field\n",
    "\n",
    "# Coherent Monochromatic Incident EM field\n",
    "psi0 = tensor(coherent(N=5, alpha=1.0), fock(5, 0), fock(5, 0)) \n",
    "\n",
    "w = 2 * 2 * np.pi   # Frequency \n",
    "\n",
    "K = 0.25                                       # Coupling strength\n",
    "theta = np.pi/2                                # Coupling phase \n",
    "\n",
    "# tlist = np.linspace(0, 0.1, 101)\n",
    "\n",
    "tlist = np.linspace(0, 4, 751)\n",
    "co_ops = []\n",
    "expt_ops = []\n",
    "\n",
    "ne, nr_in, nr_out, nl_in, nl_out, r_in, r_out, l_in, l_out, H = Hamiltonian(w, K, theta)\n",
    "\n",
    "r_int, r_outt, l_int, l_outt, xt = tdep(K, tlist[-1])\n",
    "\n",
    "result = mesolve(H, psi0, tlist, [], [xt.dag()*xt, r_int.dag()*r_int, r_outt.dag()*r_outt, l_outt.dag()*l_outt, r_int, r_outt, l_int, l_outt])\n",
    "\n",
    "ne_expt = result.expect[0]\n",
    "nri_expt = result.expect[1]\n",
    "nro_expt = result.expect[2]\n",
    "nlo_expt = result.expect[3]\n",
    "\n",
    "ri_expt = result.expect[4]\n",
    "ro_expt = result.expect[5]\n",
    "li_expt = result.expect[6]\n",
    "lo_expt = result.expect[7]\n",
    "\n",
    "fig, axes = plt.subplots(1, 1, sharex=True, figsize=(8,4))\n",
    "\n",
    "axes.plot(tlist[700:], ri_expt[700:], 'r', linewidth=2, label=\"<r_in(t)>\")\n",
    "axes.plot(tlist[700:], lo_expt[700:], 'b', linewidth=2, label=\"<l_out(t)>\")\n",
    "axes.set_ylabel(\"Expectation value\", fontsize=16)\n",
    "axes.set_xlabel(\"t\", fontsize=16)\n",
    "axes.legend(loc=0)\n",
    "\n",
    "fig.tight_layout()\n",
    "axes.set_title(\"Expectation value w.r.t t\")"
   ]
  },
  {
   "cell_type": "code",
   "execution_count": null,
   "metadata": {},
   "outputs": [],
   "source": [
    "fig, axes = plt.subplots(1, 1, sharex=True, figsize=(8,4))\n",
    "\n",
    "axes.plot(tlist[700:], ri_expt[700:], 'r', linewidth=2, label=\"<r_in(t)>\")\n",
    "axes.plot(tlist[700:], ro_expt[700:], 'g', linewidth=2, label=\"<r_out(t)>\")\n",
    "axes.set_ylabel(\"Expectation value\", fontsize=16)\n",
    "axes.set_xlabel(\"t\", fontsize=16)\n",
    "axes.legend(loc=0)\n",
    "\n",
    "fig.tight_layout()\n",
    "axes.set_title(\"Expectation value w.r.t t\")"
   ]
  },
  {
   "cell_type": "code",
   "execution_count": null,
   "metadata": {},
   "outputs": [],
   "source": [
    "# Coherent Monochromatic Incident EM field\n",
    "psi0 = tensor(coherent(N=5, alpha=1.0), fock(5, 0), fock(5, 0)) \n",
    "\n",
    "w = 2 * 2 * np.pi   # Frequency \n",
    "\n",
    "K = 0.25                                       # Coupling strength\n",
    "theta = np.pi/2                                # Coupling phase \n",
    "\n",
    "tlist = np.linspace(0, 4, 751)\n",
    "co_ops = []\n",
    "expt_ops = []\n",
    "\n",
    "ne, nr_in, nr_out, nl_in, nl_out, r_in, r_out, l_in, l_out, H = Hamiltonian(w, K, theta)\n",
    "\n",
    "result = mesolve(H, psi0, tlist, [], [ne, nr_in, nr_out, nl_out, r_in , r_out, l_in, l_out])\n",
    "\n",
    "ne_expt = result.expect[0]\n",
    "nri_expt = result.expect[1]\n",
    "nro_expt = result.expect[2]\n",
    "nlo_expt = result.expect[3]\n",
    "\n",
    "ri_expt = result.expect[4]\n",
    "ro_expt = result.expect[5]\n",
    "li_expt = result.expect[6]\n",
    "lo_expt = result.expect[7]"
   ]
  },
  {
   "cell_type": "code",
   "execution_count": null,
   "metadata": {},
   "outputs": [],
   "source": [
    "fig, axes = plt.subplots(1, 1, sharex=True, figsize=(8,4))\n",
    "\n",
    "axes.plot(tlist, ne_expt, 'r', linewidth=2, label=\"<ne(w)>\")\n",
    "axes.plot(tlist, nri_expt, 'g', linewidth=2, label=\"<nr_in(w)>\")\n",
    "axes.plot(tlist, nro_expt, 'b', linewidth=2, label=\"<nr_out(w)>\")\n",
    "axes.set_ylabel(\"Occupational Probability\", fontsize=16)\n",
    "axes.set_xlabel(\"w\", fontsize=16)\n",
    "axes.legend(loc=0)\n",
    "\n",
    "fig.tight_layout()\n",
    "axes.set_title(\"Occupational Probability w.r.t w\")"
   ]
  },
  {
   "cell_type": "code",
   "execution_count": null,
   "metadata": {},
   "outputs": [],
   "source": [
    "fig, axes = plt.subplots(1, 1, sharex=True, figsize=(8,4))\n",
    "\n",
    "axes.plot(tlist, nri_expt, 'r', linewidth=2, label=\"<nr_in(w)>\")\n",
    "axes.plot(tlist, nro_expt, 'b', linewidth=2, label=\"<nr_out(w)>\")\n",
    "axes.set_ylabel(\"Occupational Probability\", fontsize=16)\n",
    "axes.set_xlabel(\"w\", fontsize=16)\n",
    "axes.legend(loc=0)\n",
    "\n",
    "fig.tight_layout()\n",
    "axes.set_title(\"Occupational Probability w.r.t w\")"
   ]
  },
  {
   "cell_type": "code",
   "execution_count": null,
   "metadata": {},
   "outputs": [],
   "source": [
    "fig, axes = plt.subplots(1, 1, sharex=True, figsize=(8,4))\n",
    "\n",
    "axes.plot(tlist, ne_expt, 'r', linewidth=2, label=\"<ne(w)>\")\n",
    "axes.plot(tlist, nro_expt, 'b', linewidth=2, label=\"<nr_out(w)>\")\n",
    "axes.plot(tlist, nlo_expt, 'g', linewidth=2, label=\"<nl_out(w)>\")\n",
    "axes.set_ylabel(\"Occupational Probability\", fontsize=16)\n",
    "axes.set_xlabel(\"w\", fontsize=16)\n",
    "axes.legend(loc=0)\n",
    "\n",
    "fig.tight_layout()\n",
    "axes.set_title(\"Occupational Probability w.r.t w\")"
   ]
  },
  {
   "cell_type": "code",
   "execution_count": null,
   "metadata": {},
   "outputs": [],
   "source": [
    "fig, axes = plt.subplots(1, 1, sharex=True, figsize=(8,4))\n",
    "\n",
    "axes.plot(tlist, ri_expt, 'r', linewidth=2, label=\"<r_in(w)>\")\n",
    "axes.set_ylabel(\"Expectation value\", fontsize=16)\n",
    "axes.set_xlabel(\"w\", fontsize=16)\n",
    "axes.legend(loc=0)\n",
    "\n",
    "fig.tight_layout()\n",
    "axes.set_title(\"Expectation value of Coherent Incident field w.r.t w\")"
   ]
  },
  {
   "cell_type": "code",
   "execution_count": null,
   "metadata": {},
   "outputs": [],
   "source": [
    "fig, axes = plt.subplots(1, 1, sharex=True, figsize=(8,4))\n",
    "\n",
    "axes.plot(tlist, ro_expt, 'b', linewidth=2, label=\"<r_out(w)>\")\n",
    "axes.set_ylabel(\"Expectation value\", fontsize=16)\n",
    "axes.set_xlabel(\"w\", fontsize=16)\n",
    "axes.legend(loc=0)\n",
    "\n",
    "fig.tight_layout()\n",
    "axes.set_title(\"Expectation value of Transmitted field w.r.t w\")"
   ]
  },
  {
   "cell_type": "code",
   "execution_count": null,
   "metadata": {},
   "outputs": [],
   "source": [
    "fig, axes = plt.subplots(1, 1, sharex=True, figsize=(8,4))\n",
    "\n",
    "axes.plot(tlist, lo_expt, 'g', linewidth=2, label=\"<l_out(w)>\")\n",
    "axes.set_ylabel(\"Expectation value\", fontsize=16)\n",
    "axes.set_xlabel(\"w\", fontsize=16)\n",
    "axes.legend(loc=0)\n",
    "\n",
    "fig.tight_layout()\n",
    "axes.set_title(\"Expectation value of Reflected field w.r.t w\")"
   ]
  },
  {
   "cell_type": "code",
   "execution_count": null,
   "metadata": {},
   "outputs": [],
   "source": [
    "fig, axes = plt.subplots(1, 1, sharex=True, figsize=(8,4))\n",
    "\n",
    "axes.plot(tlist[700:], ri_expt[700:], 'r', linewidth=2, label=\"<r_in(w)>\")\n",
    "axes.plot(tlist[700:], ro_expt[700:], 'b', linewidth=2, label=\"<r_out(w)>\")\n",
    "axes.set_ylabel(\"Expectation value\", fontsize=16)\n",
    "axes.set_xlabel(\"w\", fontsize=16)\n",
    "axes.legend(loc=0)\n",
    "\n",
    "fig.tight_layout()\n",
    "axes.set_title(\"Expectation value of w.r.t w\")"
   ]
  },
  {
   "cell_type": "code",
   "execution_count": null,
   "metadata": {},
   "outputs": [],
   "source": [
    "fig, axes = plt.subplots(1, 1, sharex=True, figsize=(8,4))\n",
    "\n",
    "axes.plot(tlist[700:], ri_expt[700:], 'r', linewidth=2, label=\"<r_in(w)>\")\n",
    "axes.plot(tlist[700:], lo_expt[700:], 'g', linewidth=2, label=\"<l_out(w)>\")\n",
    "axes.set_ylabel(\"Expectation value\", fontsize=16)\n",
    "axes.set_xlabel(\"w\", fontsize=16)\n",
    "axes.legend(loc=0)\n",
    "\n",
    "fig.tight_layout()\n",
    "axes.set_title(\"Expectation value of w.r.t w\")"
   ]
  },
  {
   "cell_type": "code",
   "execution_count": null,
   "metadata": {},
   "outputs": [],
   "source": [
    "### Just to show the change of Reflection coefficient w.r.t T (it shouldn't)\n",
    "\n",
    "# Reflection Coefficient \n",
    "# RC = gamma * G(w,k)  (k=0 here)\n",
    "# Can be calculated by taking expectation value of Eq(8)\n",
    "\n",
    "rc = (np.array(ri_expt) - np.array(ro_expt))/(np.array(ri_expt) + np.array(li_expt))\n",
    "\n",
    "\n",
    "fig, axes = plt.subplots(1, 1, sharex=True, figsize=(8,4))\n",
    "\n",
    "axes.plot(tlist, rc, 'b', linewidth=2)\n",
    "axes.set_ylabel(\"Reflection Coefficient\", fontsize=16)\n",
    "axes.set_xlabel(\"t\", fontsize=16)\n",
    "axes.legend(loc=0)\n",
    "\n",
    "fig.tight_layout()\n",
    "axes.set_title(\"Reflection Coefficient w.r.t t\")"
   ]
  },
  {
   "cell_type": "code",
   "execution_count": null,
   "metadata": {},
   "outputs": [],
   "source": [
    "# Coherent Monochromatic Incident EM field\n",
    "psi = tensor(coherent(N=5, alpha=1.0), fock(5, 0), fock(5, 0)) \n",
    "\n",
    "w = 2.1 * 2 * np.pi   # Frequency vector\n",
    "\n",
    "K_vec = np.linspace(0, 1.0, 51) * 2 * np.pi    # Coupling strength vector\n",
    "theta = np.pi/2                                # Coupling phase \n",
    "\n",
    "ne_expt = []\n",
    "nri_expt = []\n",
    "nro_expt = []\n",
    "nlo_expt = []\n",
    "\n",
    "ri_expt = []\n",
    "ro_expt = []\n",
    "li_expt = []\n",
    "lo_expt = []\n",
    "\n",
    "for K in K_vec:\n",
    "    \n",
    "    ne, nr_in, nr_out, nl_in, nl_out, r_in, r_out, l_in, l_out, H = Hamiltonian(w, K, theta)\n",
    "    \n",
    "    e = expect(ne, psi)\n",
    "    ne_expt.append(e)\n",
    "    \n",
    "    nri = expect(nr_in, psi)      # Right-in photon occupation probability\n",
    "    nri_expt.append(nri)\n",
    "    \n",
    "    nro = expect(nr_out, psi)     # Right-out photon occupation probability\n",
    "    nro_expt.append(nro)          \n",
    "\n",
    "    nlo = expect(nl_out, psi)     # Left-out photon occupation probability\n",
    "    nlo_expt.append(nlo)          \n",
    "    \n",
    "    lie = expect(l_in, psi)       # Left-in photon expectation value\n",
    "    li_expt.append(lie)\n",
    "    \n",
    "    loe = expect(l_out, psi)      # Left-out photon expectation value\n",
    "    lo_expt.append(loe)\n",
    "    \n",
    "    roe = expect(r_out, psi)      # Right-out photon expectation value\n",
    "    ro_expt.append(roe)\n",
    "    \n",
    "    rie = expect(r_in, psi)       # Right-in photon expectation value\n",
    "    ri_expt.append(rie)"
   ]
  },
  {
   "cell_type": "code",
   "execution_count": null,
   "metadata": {},
   "outputs": [],
   "source": [
    "# Reflection Coefficient \n",
    "# RC = gamma * G(w,k)  (k=0 here)\n",
    "# Can be calculated by taking expectation value of Eq(8)\n",
    "\n",
    "rc = (np.array(ri_expt) - np.array(ro_expt))/(np.array(ri_expt) + np.array(li_expt))"
   ]
  },
  {
   "cell_type": "code",
   "execution_count": null,
   "metadata": {},
   "outputs": [],
   "source": [
    "fig, axes = plt.subplots(1, 1, sharex=True, figsize=(8,4))\n",
    "\n",
    "axes.plot(K_vec/(2*np.pi), rc, 'r', linewidth=2, label=\"<r_in(w)>\")\n",
    "axes.set_ylabel(\"Reflection Coefficient\", fontsize=16)\n",
    "axes.set_xlabel(\"K\", fontsize=16)\n",
    "axes.legend(loc=0)\n",
    "\n",
    "fig.tight_layout()\n",
    "axes.set_title(\"Reflection Coefficient field w.r.t K\")"
   ]
  },
  {
   "cell_type": "code",
   "execution_count": null,
   "metadata": {},
   "outputs": [],
   "source": [
    "fig, axes = plt.subplots(1, 1, sharex=True, figsize=(8,4))\n",
    "\n",
    "axes.plot(K_vec/(2*np.pi), ri_expt, 'r', linewidth=2, label=\"<r_in(w)>\")\n",
    "axes.plot(K_vec/(2*np.pi), ro_expt, 'b', linewidth=2, label=\"<r_out(w)>\")\n",
    "axes.set_ylabel(\"Expectation value\", fontsize=16)\n",
    "axes.set_xlabel(\"K\", fontsize=16)\n",
    "axes.legend(loc=0)\n",
    "\n",
    "fig.tight_layout()\n",
    "axes.set_title(\"Expectation value of Coherent Incident field w.r.t K\")"
   ]
  },
  {
   "cell_type": "code",
   "execution_count": null,
   "metadata": {},
   "outputs": [],
   "source": []
  }
 ],
 "metadata": {
  "kernelspec": {
   "display_name": "Python 3",
   "language": "python",
   "name": "python3"
  },
  "language_info": {
   "codemirror_mode": {
    "name": "ipython",
    "version": 3
   },
   "file_extension": ".py",
   "mimetype": "text/x-python",
   "name": "python",
   "nbconvert_exporter": "python",
   "pygments_lexer": "ipython3",
   "version": "3.6.10"
  }
 },
 "nbformat": 4,
 "nbformat_minor": 2
}
