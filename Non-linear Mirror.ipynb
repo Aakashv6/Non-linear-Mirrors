{
 "cells": [
  {
   "cell_type": "code",
   "execution_count": 1,
   "metadata": {},
   "outputs": [],
   "source": [
    "%matplotlib inline"
   ]
  },
  {
   "cell_type": "code",
   "execution_count": 2,
   "metadata": {},
   "outputs": [],
   "source": [
    "import matplotlib.pyplot as plt"
   ]
  },
  {
   "cell_type": "code",
   "execution_count": 3,
   "metadata": {},
   "outputs": [],
   "source": [
    "import numpy as np"
   ]
  },
  {
   "cell_type": "code",
   "execution_count": 4,
   "metadata": {},
   "outputs": [],
   "source": [
    "from qutip import *\n",
    "import time\n",
    "from mpl_toolkits.mplot3d import Axes3D"
   ]
  },
  {
   "cell_type": "code",
   "execution_count": 41,
   "metadata": {},
   "outputs": [],
   "source": [
    "def compute(N, wc, we, glist):\n",
    "\n",
    "    # Pre-compute operators for the hamiltonian\n",
    "    a  = destroy(N)\n",
    "    at = a.dag()\n",
    "    b = destroy(N)\n",
    "    bt = b.dag()\n",
    "    nc = at * a\n",
    "    ne = bt * b\n",
    "         \n",
    "    A = 0.5\n",
    "    B = 0.9\n",
    "    \n",
    "    idx = 0\n",
    "    nc_expt = np.zeros(shape(glist))\n",
    "    ne_expt = np.zeros(shape(glist))\n",
    "    \n",
    "    for g in glist:\n",
    "\n",
    "        # recalculate the hamiltonian for each value of g\n",
    "        H = wc * nc + we * ne + g * (at * b + bt * a) + A * (bt * bt * b * b) - B * (bt * bt * b * a + at * bt * b * b)\n",
    "        H = Qobj(H)\n",
    "        # find the groundstate of the composite system\n",
    "        evals, ekets = H.eigenstates()\n",
    "        psi_gnd = ekets[0]\n",
    "        nc_expt[idx] = expect(nc, psi_gnd)\n",
    "        ne_expt[idx] = expect(ne, psi_gnd)\n",
    "\n",
    "        idx += 1\n",
    "\n",
    "    return nc_expt, ne_expt, ket2dm(psi_gnd)"
   ]
  },
  {
   "cell_type": "code",
   "execution_count": 46,
   "metadata": {},
   "outputs": [
    {
     "name": "stdout",
     "output_type": "stream",
     "text": [
      "time elapsed = 5.038956165313721\n"
     ]
    }
   ],
   "source": [
    "#\n",
    "# set up the calculation\n",
    "#\n",
    "wc = 1.0 * 2 * np.pi   # cavity frequency\n",
    "we = 1.0 * 2 * np.pi   # exciton frequency\n",
    "N = 20              # number of cavity fock states\n",
    "\n",
    "glist = np.linspace(-50, 50, 500) * 2 * np.pi # coupling strength vector\n",
    "\n",
    "start_time = time.time()\n",
    "nc, ne, rhoss_final = compute(N, wc, we, glist)\n",
    "print('time elapsed = ' + str(time.time() - start_time)) "
   ]
  },
  {
   "cell_type": "code",
   "execution_count": 47,
   "metadata": {},
   "outputs": [
    {
     "data": {
      "text/plain": [
       "[<matplotlib.lines.Line2D at 0x7fd6ba514550>]"
      ]
     },
     "execution_count": 47,
     "metadata": {},
     "output_type": "execute_result"
    },
    {
     "data": {
      "image/png": "[encoded data removed]",
      "text/plain": [
       "<Figure size 576x432 with 1 Axes>"
      ]
     },
     "metadata": {
      "needs_background": "light"
     },
     "output_type": "display_data"
    }
   ],
   "source": [
    "#\n",
    "# plot the cavity and atom occupation numbers as a function of \n",
    "#\n",
    "fig, ax = plt.subplots(figsize=(8,6))\n",
    "\n",
    "ax.plot(glist/(2*np.pi), nc)"
   ]
  },
  {
   "cell_type": "code",
   "execution_count": null,
   "metadata": {},
   "outputs": [],
   "source": []
  }
 ],
 "metadata": {
  "kernelspec": {
   "display_name": "Python 3",
   "language": "python",
   "name": "python3"
  },
  "language_info": {
   "codemirror_mode": {
    "name": "ipython",
    "version": 3
   },
   "file_extension": ".py",
   "mimetype": "text/x-python",
   "name": "python",
   "nbconvert_exporter": "python",
   "pygments_lexer": "ipython3",
   "version": "3.6.10"
  }
 },
 "nbformat": 4,
 "nbformat_minor": 2
}
