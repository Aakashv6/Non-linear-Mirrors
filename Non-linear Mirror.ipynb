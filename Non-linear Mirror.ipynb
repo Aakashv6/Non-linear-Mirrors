{
 "cells": [
  {
   "cell_type": "code",
   "execution_count": 1,
   "metadata": {},
   "outputs": [],
   "source": [
    "# setup the matplotlib graphics library and configure it to show figures inline in the notebook\n",
    "%matplotlib inline\n",
    "import matplotlib.pyplot as plt\n",
    "import numpy as np"
   ]
  },
  {
   "cell_type": "code",
   "execution_count": 2,
   "metadata": {},
   "outputs": [],
   "source": [
    "# make qutip available in the rest of the notebook\n",
    "from qutip import *"
   ]
  },
  {
   "cell_type": "code",
   "execution_count": 3,
   "metadata": {},
   "outputs": [],
   "source": [
    "wc = 1.0  * 2 * np.pi  # photon frequency\n",
    "we = 1.0  * 2 * np.pi  # exciton frequency\n",
    "\n",
    "Np = 10            # number of cavity fock states\n",
    "Ne = 5             # number of exciton fock states\n",
    "theta = np.pi/2    # phase factor\n",
    "gamma = 0.5        # gamma\n",
    "\n",
    "use_rwa = True     # Rotating wave approximation"
   ]
  },
  {
   "cell_type": "code",
   "execution_count": 4,
   "metadata": {},
   "outputs": [],
   "source": [
    "# Operators\n",
    "\n",
    "r_in  = tensor(destroy(Np), qeye(Ne), qeye(Ne))       # Incident photon\n",
    "\n",
    "b0 = tensor(qeye(Np), destroy(Ne), qeye(Ne))          # Exciton 0\n",
    "b1 = tensor(qeye(Np), qeye(Ne), destroy(Ne))          # Exciton 1\n",
    "\n",
    "r_out = r_in - 1j*np.exp(1j*theta) * np.sqrt(gamma)*b0  # Transmitted photon\n",
    " \n",
    "ne0 = b0.dag() * b0  # exciton0\n",
    "ne1 = b1.dag() * b1  # exciton1\n",
    "np_in = r_in.dag() * r_in  # photon right--in\n",
    "np_out = r_out.dag() * r_out  # photon right--out\n",
    "\n",
    "A = 1           # Exciton-Exciton interaction\n",
    "B = -0.1        # Higher-order exciton-photon interaction    "
   ]
  },
  {
   "cell_type": "code",
   "execution_count": 5,
   "metadata": {},
   "outputs": [],
   "source": [
    "g_vec = np.linspace(0, 3.0, 101) * 2 * np.pi # coupling strength vector\n",
    "\n",
    "psi_list = []\n",
    "\n",
    "for g in g_vec:\n",
    "    \n",
    "    # decoupled Hamiltonian\n",
    "    H0 = wc * (r_in.dag() * r_in + r_out.dag() * r_out) + we * (b0.dag() * b0 + b1.dag() * b1) \n",
    "\n",
    "    # interaction Hamiltonian\n",
    "    if use_rwa:\n",
    "        H1 = g* (r_in.dag() * b0 + r_in * b0.dag() + r_out.dag() * b0 + r_out * b0.dag())\n",
    "        H1 = H1 + A*(b0.dag()*b0.dag()*b0*b0) + B*(b0.dag()*b0.dag()*b0*r_in + r_in.dag()*b0.dag()*b0*b0)\n",
    "        \n",
    "    H = H0 + H1\n",
    "\n",
    "    # find the groundstate and its energy\n",
    "    gvals, gket = H.groundstate()\n",
    "\n",
    "    # store the ground state\n",
    "    psi_list.append(gket)"
   ]
  },
  {
   "cell_type": "code",
   "execution_count": 6,
   "metadata": {},
   "outputs": [],
   "source": [
    "ne0_expt = expect(ne0, psi_list) # exciton occupation probability\n",
    "ne1_expt = expect(ne1, psi_list) # exciton occupation probability\n",
    "np_in_expt = expect(np_in, psi_list)   # photon occupation probability\n",
    "np_out_expt = expect(np_out, psi_list)   # photon occupation probability"
   ]
  },
  {
   "cell_type": "code",
   "execution_count": 8,
   "metadata": {},
   "outputs": [
    {
     "data": {
      "text/plain": [
       "Text(0.5, 1, 'Occupational probability wrt Coupling Strength')"
      ]
     },
     "execution_count": 8,
     "metadata": {},
     "output_type": "execute_result"
    },
    {
     "data": {
      "image/png": "[encoded data removed]",
      "text/plain": [
       "<Figure size 576x288 with 1 Axes>"
      ]
     },
     "metadata": {
      "needs_background": "light"
     },
     "output_type": "display_data"
    }
   ],
   "source": [
    "fig, axes = plt.subplots(1, 1, sharex=True, figsize=(8,4))\n",
    "\n",
    "axes.plot(g_vec/(2*np.pi), np_in_expt, 'r', linewidth=2, label=\"Photon_right_in\")\n",
    "axes.plot(g_vec/(2*np.pi), np_out_expt, 'r', linewidth=2, label=\"Photon_right_out\")\n",
    "axes.plot(g_vec/(2*np.pi), ne0_expt, 'b', linewidth=2, label=\"Exciton0\")\n",
    "axes.plot(g_vec/(2*np.pi), ne1_expt, 'g', linewidth=2, label=\"Exciton1\")\n",
    "axes.set_ylabel(\"Occupation probability\", fontsize=16)\n",
    "axes.set_xlabel(\"coupling strength\", fontsize=16)\n",
    "axes.legend(loc=0)\n",
    "\n",
    "fig.tight_layout()\n",
    "axes.set_title(\"Occupational probability wrt Coupling Strength\")"
   ]
  },
  {
   "cell_type": "code",
   "execution_count": null,
   "metadata": {},
   "outputs": [],
   "source": []
  }
 ],
 "metadata": {
  "kernelspec": {
   "display_name": "Python 3",
   "language": "python",
   "name": "python3"
  },
  "language_info": {
   "codemirror_mode": {
    "name": "ipython",
    "version": 3
   },
   "file_extension": ".py",
   "mimetype": "text/x-python",
   "name": "python",
   "nbconvert_exporter": "python",
   "pygments_lexer": "ipython3",
   "version": "3.6.10"
  }
 },
 "nbformat": 4,
 "nbformat_minor": 2
}
