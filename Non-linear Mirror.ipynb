{
 "cells": [
  {
   "cell_type": "code",
   "execution_count": 67,
   "metadata": {},
   "outputs": [],
   "source": [
    "# setup the matplotlib graphics library and configure it to show figures inline in the notebook\n",
    "%matplotlib inline\n",
    "import matplotlib.pyplot as plt\n",
    "import numpy as np"
   ]
  },
  {
   "cell_type": "code",
   "execution_count": 68,
   "metadata": {},
   "outputs": [],
   "source": [
    "# make qutip available in the rest of the notebook\n",
    "from qutip import *"
   ]
  },
  {
   "cell_type": "code",
   "execution_count": 137,
   "metadata": {},
   "outputs": [],
   "source": [
    "wc = 1.0  * 2 * np.pi  # photon frequency\n",
    "we = 1.0  * 2 * np.pi  # exciton frequency\n",
    "\n",
    "Np = 20            # number of cavity fock states\n",
    "Ne = 10            # number of exciton fock states\n",
    "use_rwa = True"
   ]
  },
  {
   "cell_type": "code",
   "execution_count": 166,
   "metadata": {},
   "outputs": [],
   "source": [
    "# operators\n",
    "a  = tensor(destroy(Np), qeye(Ne))\n",
    "b = tensor(qeye(Np), destroy(Ne))\n",
    "\n",
    "ne = b.dag() * b  # exciton\n",
    "nc = a.dag() * a  # photon\n",
    "\n",
    "A = 1\n",
    "B = -0.1\n",
    "\n",
    "# decoupled Hamiltonian\n",
    "H0 = wc * a.dag() * a + we * b.dag() * b\n",
    "\n",
    "# interaction Hamiltonian\n",
    "if use_rwa:\n",
    "    H1 = (a.dag() * b + a * b.dag()) + A*(b.dag()*b.dag()*b*b) + B*(b.dag()*b.dag()*b*a + a.dag()*b.dag()*b*b)\n",
    "else:\n",
    "    H1 = (a.dag() + a) * (b + b.dag())"
   ]
  },
  {
   "cell_type": "code",
   "execution_count": 167,
   "metadata": {},
   "outputs": [],
   "source": [
    "g_vec = np.linspace(0, 3.0, 101) * 2 * np.pi # coupling strength vector\n",
    "\n",
    "psi_list = []\n",
    "\n",
    "for g in g_vec:\n",
    "\n",
    "    H = H0 + g * H1\n",
    "\n",
    "    # find the groundstate and its energy\n",
    "    evals, ekets = H.eigenstates()\n",
    "    gnd_state = ekets[0]\n",
    "    \n",
    "    # store the ground state\n",
    "    psi_list.append(gnd_state)"
   ]
  },
  {
   "cell_type": "code",
   "execution_count": 168,
   "metadata": {},
   "outputs": [],
   "source": [
    "ne_expt = expect(ne, psi_list) # exciton occupation probability\n",
    "nc_expt = expect(nc, psi_list) # photon occupation probability"
   ]
  },
  {
   "cell_type": "code",
   "execution_count": 169,
   "metadata": {},
   "outputs": [
    {
     "data": {
      "image/png": "[encoded data removed]",
      "text/plain": [
       "<Figure size 576x288 with 1 Axes>"
      ]
     },
     "metadata": {
      "needs_background": "light"
     },
     "output_type": "display_data"
    }
   ],
   "source": [
    "fig, axes = plt.subplots(1, 1, sharex=True, figsize=(8,4))\n",
    "\n",
    "axes.plot(g_vec/(2*np.pi), nc_expt, 'r', linewidth=2, label=\"Photon\")\n",
    "axes.plot(g_vec/(2*np.pi), ne_expt, 'b', linewidth=2, label=\"Exciton\")\n",
    "axes.set_ylabel(\"Occupation probability\", fontsize=16)\n",
    "axes.set_xlabel(\"coupling strenght\", fontsize=16)\n",
    "axes.legend(loc=0)\n",
    "\n",
    "fig.tight_layout()"
   ]
  },
  {
   "cell_type": "code",
   "execution_count": null,
   "metadata": {},
   "outputs": [],
   "source": []
  }
 ],
 "metadata": {
  "kernelspec": {
   "display_name": "Python 3",
   "language": "python",
   "name": "python3"
  },
  "language_info": {
   "codemirror_mode": {
    "name": "ipython",
    "version": 3
   },
   "file_extension": ".py",
   "mimetype": "text/x-python",
   "name": "python",
   "nbconvert_exporter": "python",
   "pygments_lexer": "ipython3",
   "version": "3.6.10"
  }
 },
 "nbformat": 4,
 "nbformat_minor": 2
}
